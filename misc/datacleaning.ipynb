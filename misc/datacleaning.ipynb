{
 "cells": [
  {
   "cell_type": "markdown",
   "metadata": {},
   "source": [
    "# Import Dataset"
   ]
  },
  {
   "cell_type": "code",
   "execution_count": 2,
   "metadata": {},
   "outputs": [
    {
     "name": "stderr",
     "output_type": "stream",
     "text": [
      "C:\\Users\\guilh\\AppData\\Local\\Packages\\PythonSoftwareFoundation.Python.3.11_qbz5n2kfra8p0\\LocalCache\\local-packages\\Python311\\site-packages\\tqdm\\auto.py:21: TqdmWarning: IProgress not found. Please update jupyter and ipywidgets. See https://ipywidgets.readthedocs.io/en/stable/user_install.html\n",
      "  from .autonotebook import tqdm as notebook_tqdm\n"
     ]
    },
    {
     "name": "stdout",
     "output_type": "stream",
     "text": [
      "Path to dataset file: C:\\Users\\guilh\\.cache\\kagglehub\\datasets\\austinreese\\craigslist-carstrucks-data\\versions\\10\n",
      "Columns: Index(['id', 'url', 'region', 'region_url', 'price', 'year', 'manufacturer',\n",
      "       'model', 'condition', 'cylinders', 'fuel', 'odometer', 'title_status',\n",
      "       'transmission', 'VIN', 'drive', 'size', 'type', 'paint_color',\n",
      "       'image_url', 'description', 'county', 'state', 'lat', 'long',\n",
      "       'posting_date'],\n",
      "      dtype='object')\n"
     ]
    }
   ],
   "source": [
    "import kagglehub\n",
    "import pandas as pd\n",
    "\n",
    "SEED = 42\n",
    "\n",
    "# Download latest version\n",
    "path = kagglehub.dataset_download(\"austinreese/craigslist-carstrucks-data\")\n",
    "\n",
    "print(\"Path to dataset file:\", path)\n",
    "\n",
    "# Load the dataset\n",
    "csv_file = f\"{path}/vehicles.csv\"\n",
    "raw_data = pd.read_csv(csv_file)\n",
    "\n",
    "# Print columns\n",
    "print(\"Columns:\", raw_data.columns)"
   ]
  },
  {
   "cell_type": "markdown",
   "metadata": {},
   "source": [
    "# Data Cleaning"
   ]
  },
  {
   "cell_type": "markdown",
   "metadata": {},
   "source": [
    "## Common stuff"
   ]
  },
  {
   "cell_type": "code",
   "execution_count": 3,
   "metadata": {},
   "outputs": [
    {
     "name": "stdout",
     "output_type": "stream",
     "text": [
      "Total:  118264\n",
      "      year manufacturer                     model condition    cylinders fuel  \\\n",
      "0   2017.0         ford                     f-150      good  6 cylinders  gas   \n",
      "27  2014.0          gmc  sierra 1500 crew cab slt      good  8 cylinders  gas   \n",
      "28  2010.0    chevrolet            silverado 1500      good  8 cylinders  gas   \n",
      "29  2020.0    chevrolet       silverado 1500 crew      good  8 cylinders  gas   \n",
      "30  2017.0       toyota      tundra double cab sr      good  8 cylinders  gas   \n",
      "\n",
      "    odometer transmission                VIN drive       size    type  \\\n",
      "0   100000.0    automatic  1FMJU1JT1HEA52352   4wd  full-size   sedan   \n",
      "27   57923.0        other  3GTP1VEC4EG551563   4wd  full-size  pickup   \n",
      "28   71229.0        other  1GCSCSE06AZ123805   4wd  full-size  pickup   \n",
      "29   19160.0        other  3GCPWCED5LG130317   4wd  full-size  pickup   \n",
      "30   41124.0        other  5TFRM5F17HX120972   4wd  full-size  pickup   \n",
      "\n",
      "   paint_color                                        description  \\\n",
      "0        white  35 VEHICLES PRICED UNDER $3000!!!  BIG TIME! T...   \n",
      "27       white  Carvana is the safer way to buy a car During t...   \n",
      "28        blue  Carvana is the safer way to buy a car During t...   \n",
      "29         red  Carvana is the safer way to buy a car During t...   \n",
      "30         red  Carvana is the safer way to buy a car During t...   \n",
      "\n",
      "                posting_date  price  carId  \n",
      "0   2021-04-23T22:13:05-0400   6000      1  \n",
      "27  2021-05-04T12:31:18-0500  33590      2  \n",
      "28  2021-05-04T12:31:08-0500  22590      3  \n",
      "29  2021-05-04T12:31:25-0500  39590      4  \n",
      "30  2021-05-04T10:41:31-0500  30990      5  \n"
     ]
    }
   ],
   "source": [
    "cars_columns = ['year', 'manufacturer', 'model', 'condition', 'cylinders', 'fuel', \n",
    "                    'odometer', 'transmission', 'VIN', 'drive', 'size', 'type', 'paint_color']\n",
    "\n",
    "listings_columns = ['description', 'posting_date', 'price']\n",
    "\n",
    "columns_to_keep = cars_columns + listings_columns\n",
    "\n",
    "filtered_data = raw_data[columns_to_keep].copy()\n",
    "\n",
    "# fill missing values with mode\n",
    "filtered_data = filtered_data.fillna(filtered_data.mode().iloc[0])\n",
    "\n",
    "# drop duplicate VINs\n",
    "filtered_data = filtered_data.drop_duplicates(subset=['VIN'])\n",
    "\n",
    "# Add new column carId with consecutive numbers from 1\n",
    "filtered_data['carId'] = range(1, len(filtered_data) + 1)\n",
    "\n",
    "print(\"Total: \", len(filtered_data))\n",
    "print(filtered_data.head())"
   ]
  },
  {
   "cell_type": "markdown",
   "metadata": {},
   "source": [
    "## Cars DB"
   ]
  },
  {
   "cell_type": "code",
   "execution_count": 4,
   "metadata": {},
   "outputs": [
    {
     "name": "stdout",
     "output_type": "stream",
     "text": [
      "Number of cars: 118264\n",
      "    car_id  car_year car_manufacturer                 car_model car_condition  \\\n",
      "0        1      2017             ford                     f-150          good   \n",
      "27       2      2014              gmc  sierra 1500 crew cab slt          good   \n",
      "28       3      2010        chevrolet            silverado 1500          good   \n",
      "29       4      2020        chevrolet       silverado 1500 crew          good   \n",
      "30       5      2017           toyota      tundra double cab sr          good   \n",
      "\n",
      "   car_cylinders car_fuel  car_odometer car_transmission            car_vin  \\\n",
      "0    6 cylinders      gas        100000        automatic  1FMJU1JT1HEA52352   \n",
      "27   8 cylinders      gas         57923            other  3GTP1VEC4EG551563   \n",
      "28   8 cylinders      gas         71229            other  1GCSCSE06AZ123805   \n",
      "29   8 cylinders      gas         19160            other  3GCPWCED5LG130317   \n",
      "30   8 cylinders      gas         41124            other  5TFRM5F17HX120972   \n",
      "\n",
      "   car_drive   car_size car_type car_paint_color  \n",
      "0        4wd  full-size    sedan           white  \n",
      "27       4wd  full-size   pickup           white  \n",
      "28       4wd  full-size   pickup            blue  \n",
      "29       4wd  full-size   pickup             red  \n",
      "30       4wd  full-size   pickup             red  \n"
     ]
    }
   ],
   "source": [
    "# Filter the data to include only car columns\n",
    "cars_data = filtered_data[['carId'] + cars_columns].copy()\n",
    "\n",
    "# Rename columns to match the SQL format\n",
    "cars_data = cars_data.rename(columns={\n",
    "    'carId': 'car_id',\n",
    "    'year': 'car_year',\n",
    "    'manufacturer': 'car_manufacturer',\n",
    "    'model': 'car_model',\n",
    "    'condition': 'car_condition',\n",
    "    'cylinders': 'car_cylinders',\n",
    "    'fuel': 'car_fuel',\n",
    "    'odometer': 'car_odometer',\n",
    "    'transmission': 'car_transmission',\n",
    "    'VIN': 'car_vin',\n",
    "    'drive': 'car_drive',\n",
    "    'size': 'car_size',\n",
    "    'type': 'car_type',\n",
    "    'paint_color': 'car_paint_color'\n",
    "})\n",
    "\n",
    "# Define column limits based on SQL schema\n",
    "column_limits = {\n",
    "    'car_manufacturer': 100,\n",
    "    'car_model': 100,\n",
    "    'car_condition': 50,\n",
    "    'car_cylinders': 50,\n",
    "    'car_fuel': 50,\n",
    "    'car_transmission': 50,\n",
    "    'car_vin': 17,\n",
    "    'car_drive': 50,\n",
    "    'car_size': 50,\n",
    "    'car_type': 50,\n",
    "    'car_paint_color': 50\n",
    "}\n",
    "\n",
    "# Apply truncation to string columns\n",
    "for col, limit in column_limits.items():\n",
    "    cars_data[col] = cars_data[col].astype(str).str.slice(0, limit)\n",
    "\n",
    "# Ensure car_year and car_odometer are integers\n",
    "cars_data['car_year'] = cars_data['car_year'].fillna(0).astype(int)\n",
    "cars_data['car_odometer'] = cars_data['car_odometer'].fillna(0).astype(int)\n",
    "\n",
    "# Save the filtered data to a new CSV file\n",
    "cars_data.to_csv(\"cars.csv\", index=False)\n",
    "\n",
    "print(\"Number of cars:\", len(cars_data))\n",
    "print(cars_data.head())\n"
   ]
  },
  {
   "cell_type": "markdown",
   "metadata": {},
   "source": [
    "## CarListings DB"
   ]
  },
  {
   "cell_type": "code",
   "execution_count": 5,
   "metadata": {},
   "outputs": [
    {
     "name": "stdout",
     "output_type": "stream",
     "text": [
      "Number of listings: 59132\n",
      "    listing_id  listing_car_id  listing_user_id   listing_type  \\\n",
      "0            1               1                1   TypeEnum_BUY   \n",
      "27           2               2                1   TypeEnum_BUY   \n",
      "28           3               3                1   TypeEnum_BUY   \n",
      "29           4               4                1   TypeEnum_BUY   \n",
      "30           5               5                1  TypeEnum_RENT   \n",
      "\n",
      "   listing_description      listing_posting_date  listing_sale_price  \\\n",
      "0            Great car  2021-04-23T22:13:05-0400                6000   \n",
      "27           Great car  2021-05-04T12:31:18-0500               33590   \n",
      "28           Great car  2021-05-04T12:31:08-0500               22590   \n",
      "29           Great car  2021-05-04T12:31:25-0500               39590   \n",
      "30           Great car  2021-05-04T10:41:31-0500               30990   \n",
      "\n",
      "    listing_promoted        listing_status  \n",
      "0              False       StatusEnum_SOLD  \n",
      "27             False       StatusEnum_SOLD  \n",
      "28             False  StatusEnum_AVAILABLE  \n",
      "29             False  StatusEnum_AVAILABLE  \n",
      "30              True   StatusEnum_RESERVED  \n"
     ]
    }
   ],
   "source": [
    "# Filter the data to include only listings columns\n",
    "listings_data = filtered_data[['carId'] + listings_columns].copy()\n",
    "\n",
    "# Keep only the first half listings\n",
    "listings_data = listings_data.head(len(listings_data) // 2)\n",
    "\n",
    "# Rename price column to sale_price\n",
    "listings_data = listings_data.rename(columns={'price': 'sale_price'})\n",
    "\n",
    "# Add new column listingId with consecutive numbers from 1\n",
    "listings_data['listingId'] = range(1, len(listings_data) + 1)\n",
    "\n",
    "# Add new column userId all same value 1\n",
    "listings_data['userId'] = 1\n",
    "\n",
    "# Add new column type with 20% of the listings being \"rent\" and the rest \"buy\"\n",
    "listings_data['type'] = 'TypeEnum_BUY'\n",
    "listings_data.loc[listings_data.sample(frac=0.2, random_state=SEED).index, 'type'] = 'TypeEnum_RENT'\n",
    "\n",
    "# Add new column promoted with 10% of the listings being True and the rest False\n",
    "listings_data['promoted'] = False\n",
    "listings_data.loc[listings_data.sample(frac=0.1, random_state=SEED).index, 'promoted'] = True\n",
    "\n",
    "# Add new column status\n",
    "listings_data['status'] = 'StatusEnum_AVAILABLE'\n",
    "\n",
    "# Randomly select 50% of \"buy\" listings and set their status to \"SOLD\"\n",
    "buy_indices = listings_data[listings_data['type'] == 'TypeEnum_BUY'].sample(frac=0.5, random_state=SEED).index\n",
    "listings_data.loc[buy_indices, 'status'] = 'StatusEnum_SOLD'\n",
    "\n",
    "# Randomly select 25% of \"rent\" listings and set their status to \"RENTED\"\n",
    "rent_indices = listings_data[listings_data['type'] == 'TypeEnum_RENT'].sample(frac=0.25, random_state=SEED).index\n",
    "listings_data.loc[rent_indices, 'status'] = 'StatusEnum_RESERVED'\n",
    "\n",
    "# Reorder the columns\n",
    "listings_data = listings_data[['listingId', 'carId', 'userId', 'type', 'description', 'posting_date', 'sale_price', 'promoted', 'status']]\n",
    "\n",
    "# Clean description column and replace it with \"Great car\" for the first half of the listings and \"Bad car\" for the second half\n",
    "listings_data['description'] = ['Great car' if i < len(listings_data) / 2 else 'Bad car' for i in range(len(listings_data))]\n",
    "\n",
    "listings_data = listings_data.rename(columns={\n",
    "    'listingId': 'listing_id',\n",
    "    'carId': 'listing_car_id',\n",
    "    'userId': 'listing_user_id',\n",
    "    'type': 'listing_type',\n",
    "    'description': 'listing_description',\n",
    "    'posting_date': 'listing_posting_date',\n",
    "    'sale_price': 'listing_sale_price',\n",
    "    'promoted': 'listing_promoted',\n",
    "    'status': 'listing_status'\n",
    "})\n",
    "\n",
    "# Save the filtered data to a new CSV file\n",
    "listings_data.to_csv(\"listings.csv\", index=False)\n",
    "\n",
    "print(\"Number of listings:\", len(listings_data))\n",
    "print(listings_data.head())"
   ]
  }
 ],
 "metadata": {
  "kernelspec": {
   "display_name": "Python 3",
   "language": "python",
   "name": "python3"
  },
  "language_info": {
   "codemirror_mode": {
    "name": "ipython",
    "version": 3
   },
   "file_extension": ".py",
   "mimetype": "text/x-python",
   "name": "python",
   "nbconvert_exporter": "python",
   "pygments_lexer": "ipython3",
   "version": "3.13.1"
  }
 },
 "nbformat": 4,
 "nbformat_minor": 2
}
